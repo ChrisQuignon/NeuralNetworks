{
 "metadata": {
  "name": ""
 },
 "nbformat": 3,
 "nbformat_minor": 0,
 "worksheets": [
  {
   "cells": [
    {
     "cell_type": "code",
     "collapsed": false,
     "input": [
      "import numpy\n",
      "import random"
     ],
     "language": "python",
     "metadata": {},
     "outputs": [],
     "prompt_number": 79
    },
    {
     "cell_type": "code",
     "collapsed": false,
     "input": [
      "#create hidden neurons and their weights\n",
      "hidden = [[random.randint(0,1)] for _ in range(3)]\n",
      "for h in hidden:\n",
      "    h.extend([random.random() for _ in range(2)]) \n",
      "for h in hidden:\n",
      "    if h[0] == 0:\n",
      "        h[0] = -1\n",
      "#h[0] = state of the neuron\n",
      "#h[1] = weight to first visible neuron\n",
      "#h[2] = weight tp the second visible neuron\n",
      "print 'current network:'\n",
      "for neuron in hidden:\n",
      "    print neuron\n",
      "\n",
      "\n",
      "#training data\n",
      "ts =  [(0, 1), (1, 0)]\n",
      "\n",
      "\n",
      "#energy function\n",
      "def E(training):\n",
      "    e = 0\n",
      "    for h in hidden:\n",
      "        e = e+(h[0]*h[1]*training[0]\n",
      "               +h[0]*h[2]*training[1])\n",
      "    return e\n",
      "\n",
      "#Temperature value\n",
      "T = 1\n",
      "\n",
      "#Chose random neuron to be switched\n",
      "n = random.randint(0, len(hidden)-1)\n",
      "#compute current energy\n",
      "e1 = E(ts[0])\n",
      "\n",
      "#switch value\n",
      "hidden[n][0]=hidden[n][0]*-1\n",
      "\n",
      "#compute new energy value\n",
      "e2 = E(ts[0])\n",
      "\n",
      "#switch it back to original state\n",
      "hidden[n][0]=hidden[n][0]*-1\n",
      "\n",
      "#calculate propability to switch neuron\n",
      "p= 1/(1+exp(-1*(abs(e2-e1)/T)))\n",
      "print 'We switch neuron ',n, ' with a propability of', p, ':'\n",
      "print ''\n",
      "\n",
      "#draw a random value, and maybe flip value\n",
      "q = random.random()\n",
      "print 'we rolled a ', q\n",
      "if q <= p:\n",
      "    hidden[n][0] = hidden[n][0]*-1\n",
      "\n",
      "print 'New network:'\n",
      "for neuron in hidden:\n",
      "    print neuron\n"
     ],
     "language": "python",
     "metadata": {},
     "outputs": [
      {
       "output_type": "stream",
       "stream": "stdout",
       "text": [
        "current network:\n",
        "[-1, 0.4340291193610335, 0.28557659015505477]\n",
        "[1, 0.12045096013195544, 0.7401874263537412]\n",
        "[1, 0.20580381249812996, 0.12691749623449566]\n",
        "We switch neuron  0  with a propability of 0.639029222885 :\n",
        "\n",
        "we rolled a  0.449830999313\n",
        "New network:\n",
        "[1, 0.4340291193610335, 0.28557659015505477]\n",
        "[1, 0.12045096013195544, 0.7401874263537412]\n",
        "[1, 0.20580381249812996, 0.12691749623449566]\n"
       ]
      }
     ],
     "prompt_number": 81
    },
    {
     "cell_type": "code",
     "collapsed": false,
     "input": [],
     "language": "python",
     "metadata": {},
     "outputs": []
    },
    {
     "cell_type": "code",
     "collapsed": false,
     "input": [],
     "language": "python",
     "metadata": {},
     "outputs": []
    },
    {
     "cell_type": "code",
     "collapsed": false,
     "input": [],
     "language": "python",
     "metadata": {},
     "outputs": []
    }
   ],
   "metadata": {}
  }
 ]
}